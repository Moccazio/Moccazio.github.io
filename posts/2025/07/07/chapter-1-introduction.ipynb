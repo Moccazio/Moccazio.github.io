{
  "cells": [
    {
      "cell_type": "markdown",
      "metadata": {},
      "source": [
        "# Chapter 1 Introduction"
      ]
    },
    {
      "cell_type": "markdown",
      "metadata": {},
      "source": [
        "Only a few years ago, it was rare to find ML applications outside short-term price prediction, trade execution, and setting of credit ratings.\n",
        "Firms that resist this revolution will likely share Kodak's fate.\n",
        "\n",
        "Machine Learning for Asset Managers is concerned with answering a different challenge: how can we use ML to build better financial theories?\n",
        "\n",
        "A historical simulation of an investment strategy's performance (backtest) is not a theory; it is a (likely unrealistic) simulation of a past that never happened (you did not deploy that strategy years ago; that is why you are backtesting it!).\n",
        "\n",
        "Contrary to popular belief, backtesting is not a research tool. Backtests can never prove that a strategy is a true positive, and they may only provide evidence that a strategy is a false positive. Never develop a strategy solely through backtests."
      ]
    }
  ],
  "metadata": {
    "kernelspec": {
      "display_name": "Python 3",
      "language": "python",
      "name": "python3"
    },
    "language_info": {
      "codemirror_mode": {
        "name": "ipython",
        "version": 3
      },
      "file_extension": ".py",
      "mimetype": "text/x-python",
      "name": "python",
      "nbconvert_exporter": "python",
      "pygments_lexer": "ipython3",
      "version": ""
    },
    "nikola": {
      "title": "Chapter 1 Introduction",
      "slug": "chapter-1-introduction",
      "date": "2025-07-07 16:20:42 UTC+0000",
      "type": "post",
      "tags": []
    }
  },
  "nbformat": 4,
  "nbformat_minor": 2
}