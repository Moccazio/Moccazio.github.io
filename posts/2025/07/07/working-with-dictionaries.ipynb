{
  "cells": [
    {
      "cell_type": "markdown",
      "metadata": {},
      "source": [
        "# Working with Dictionaries\n",
        "\n",
        "Dictionaries are versatile data structures in Python for key-value pairs."
      ]
    },
    {
      "cell_type": "code",
      "execution_count": null,
      "metadata": {},
      "outputs": [],
      "source": [
        "# Creating a dictionary\n",
        "person = {\n",
        "    \"first_name\": \"John\",\n",
        "    \"last_name\": \"Doe\",\n",
        "    \"age\": 25\n",
        "}\n",
        "print(\"Person dictionary:\", person)"
      ]
    }
  ],
  "metadata": {
    "kernelspec": {
      "display_name": "Python 3",
      "language": "python",
      "name": "python3"
    },
    "language_info": {
      "codemirror_mode": {
        "name": "ipython",
        "version": 3
      },
      "file_extension": ".py",
      "mimetype": "text/x-python",
      "name": "python",
      "nbconvert_exporter": "python",
      "pygments_lexer": "ipython3",
      "version": ""
    },
    "nikola": {
      "title": "Working with Dictionaries",
      "slug": "working-with-dictionaries",
      "date": "2025-07-07 16:20:42 UTC+0000",
      "type": "post",
      "tags": []
    }
  },
  "nbformat": 4,
  "nbformat_minor": 2
}