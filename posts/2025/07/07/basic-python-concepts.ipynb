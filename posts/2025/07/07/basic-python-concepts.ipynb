{
  "cells": [
    {
      "cell_type": "markdown",
      "metadata": {},
      "source": [
        "# Basic Python Concepts\n",
        "\n",
        "This notebook covers some fundamental Python concepts."
      ]
    },
    {
      "cell_type": "code",
      "execution_count": null,
      "metadata": {},
      "outputs": [],
      "source": [
        "# Variables and Data Types\n",
        "name = \"Alice\"\n",
        "age = 30\n",
        "is_student = False\n",
        "\n",
        "print(f\"Name: {name}, Age: {age}, Student: {is_student}\")"
      ]
    }
  ],
  "metadata": {
    "kernelspec": {
      "display_name": "Python 3",
      "language": "python",
      "name": "python3"
    },
    "language_info": {
      "codemirror_mode": {
        "name": "ipython",
        "version": 3
      },
      "file_extension": ".py",
      "mimetype": "text/x-python",
      "name": "python",
      "nbconvert_exporter": "python",
      "pygments_lexer": "ipython3",
      "version": ""
    },
    "nikola": {
      "title": "Basic Python Concepts",
      "slug": "basic-python-concepts",
      "date": "2025-07-07 16:20:42 UTC+0000",
      "type": "post",
      "tags": []
    }
  },
  "nbformat": 4,
  "nbformat_minor": 2
}